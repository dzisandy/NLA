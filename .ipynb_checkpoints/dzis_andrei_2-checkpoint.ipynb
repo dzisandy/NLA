{
 "cells": [
  {
   "cell_type": "markdown",
   "metadata": {},
   "source": [
    "# Problem set 2 \n",
    "\n",
    "## 155 pts\n",
    "\n",
    "## For problems 1, 2, 4: all functions that you are asked to implement, you have to complete in separate file ```pset2.py```, where we provide signatures of the required functions . Also only this ```py```-file you have to submit in the bot to check correctness of your implementations.\n",
    "\n",
    "## For problem 3: see instructions in text"
   ]
  },
  {
   "cell_type": "markdown",
   "metadata": {},
   "source": [
    "## Problem 1 (LU decomposition) 35 pts"
   ]
  },
  {
   "cell_type": "markdown",
   "metadata": {},
   "source": [
    "### 1. LU for band matrices \n",
    "\n",
    "The complexity to find an LU decomposition of a dense $n\\times n$ matrix is $\\mathcal{O}(n^3)$.\n",
    "Significant reduction in complexity can be achieved if the matrix has a certain structure, e.g. it is sparse. \n",
    "In the following task we consider an important example of $LU$ for a special type of sparse matrices –– band matrices with the bandwidth $m$ equal to 3 or 5 which called tridiagonal and pentadiagonal respectively.\n",
    "\n",
    "- (5 pts) Write a function ```band_lu(diag_broadcast, n)``` which computes LU decomposition for tridiagonal or pentadiagonal matrix with given diagonal values. \n",
    "For example, input parametres ```(diag_broadcast = [1,-2,1], n = 4)``` mean that we need to find LU decomposition for the triangular matrix of the form:\n",
    "\n",
    "$$A = \\begin{pmatrix}\n",
    "-2 & 1 & 0 & 0\\\\\n",
    "1 & -2 & 1 & 0 \\\\\n",
    "0 & 1 & -2 & 1 \\\\\n",
    "0 & 0 & 1 & -2 \\\\\n",
    "\\end{pmatrix}.$$\n",
    "\n",
    "As an output it is considered to make ```L``` and ```U``` - 2D arrays representing diagonals in factors $L$ (```L[0]``` keeps first lower diagonal, ```L[1]``` keeps second lower, ...), and $U$ (```U[:,0]``` keeps main diagonal, ```U[:,1]``` keeps first upper, ...). More details you can find in comments to the corresponding function in ```pset2.py``` \n",
    "- (2 pts) Compare execution time of the band LU decomposition using standard function from ```scipy```, i.e. which takes the whole matrix and does not know about its special structure, and band decomposition of yours implementation. Comment on the results."
   ]
  },
  {
   "cell_type": "code",
   "execution_count": 1,
   "metadata": {},
   "outputs": [],
   "source": [
    "# Implement function in the ```pset2.py``` file\n",
    "from pset2 import band_lu\n",
    "from scipy.sparse import diags # can be used with broadcasting of scalars if desired dimensions are large\n",
    "import numpy as np\n",
    "from scipy.linalg import lu\n",
    "\n",
    "# Your code is here"
   ]
  },
  {
   "cell_type": "code",
   "execution_count": 2,
   "metadata": {},
   "outputs": [],
   "source": [
    "def matrix(diag_broadcast,n):\n",
    "    if len(diag_broadcast) == 3:\n",
    "        a1 = [diag_broadcast[0] for i in range(n-1)]\n",
    "        b1 = [diag_broadcast[1] for i in range(n)]\n",
    "        c1 = [diag_broadcast[2] for i in range(n-1)]\n",
    "        return np.diag(a1, -1) + np.diag(b1, 0) + np.diag(c1, 1)\n",
    "    if len(diag_broadcast) == 5:\n",
    "        a1 = [diag_broadcast[0] for i in range(n-2)]\n",
    "        b1 = [diag_broadcast[1] for i in range(n-1)]\n",
    "        c1 = [diag_broadcast[2] for i in range(n)]\n",
    "        d1 = [diag_broadcast[3] for i in range(n-1)]\n",
    "        e1 = [diag_broadcast[4] for i in range(n-2)]\n",
    "        return np.diag(a1, -2) + np.diag(b1, -1) + np.diag(c1, 0) + np.diag(d1, 1) + np.diag(e1, 2)"
   ]
  },
  {
   "cell_type": "code",
   "execution_count": 3,
   "metadata": {},
   "outputs": [],
   "source": [
    "diag_broadcast = [13,29,50,91,27]\n",
    "n = 1000\n",
    "a = matrix(diag_broadcast,n)\n",
    "#a"
   ]
  },
  {
   "cell_type": "code",
   "execution_count": 4,
   "metadata": {},
   "outputs": [
    {
     "name": "stdout",
     "output_type": "stream",
     "text": [
      "6.69 ms ± 159 µs per loop (mean ± std. dev. of 5 runs, 100 loops each)\n"
     ]
    }
   ],
   "source": [
    "%timeit -n100 -r5 band_lu(diag_broadcast,n)"
   ]
  },
  {
   "cell_type": "code",
   "execution_count": 5,
   "metadata": {},
   "outputs": [
    {
     "name": "stdout",
     "output_type": "stream",
     "text": [
      "36.6 ms ± 3.14 ms per loop (mean ± std. dev. of 5 runs, 100 loops each)\n"
     ]
    }
   ],
   "source": [
    "%timeit -n100 -r5 lu(a)"
   ]
  },
  {
   "cell_type": "markdown",
   "metadata": {},
   "source": [
    "# Comment on time results"
   ]
  },
  {
   "cell_type": "markdown",
   "metadata": {},
   "source": [
    "### 2. Completing the proof of existence of LU \n",
    "\n",
    "Some details in lecture proofs about $LU$ were omitted. Let us complete them here.\n",
    "- (5 pts) Prove that if $LU$ decomposition exists, then matrix is strictly regular.\n",
    "- (5 pts) Prove that if $A$ is a strictly regular matrix, then $A_1 = D - \\frac 1a b c^T$ (see lectures for notations) is also strictly regular."
   ]
  },
  {
   "cell_type": "markdown",
   "metadata": {},
   "source": [
    "### solution\n",
    "* Matrix A is strictly regular, when all of its principal minors are non-singular. A square matrix  $A$ of order  $n$  is said to be nonsingular if and only if there is a matrix  $B =: A^{-1}$ such that  $AA^{-1} = A^{-1}A = I_{n}$. For non-singular matrix A: $det(A) \\neq 0$. So if LU-decomposition exists, then $\\forall k: 1 \\leq k \\leq n - 1$:\n",
    "\n",
    "\n",
    "$A = \\begin{pmatrix}\n",
    "    A_{k,k} & A_{n-k,k} \\\\\n",
    "    A_{k,n-k} & A_{n-k,n-k}\n",
    "\\end{pmatrix} = LU = \\begin{pmatrix}\n",
    "    L_{k,k} & O_{n-k,k} \\\\\n",
    "    L_{k,n-k} & L_{n-k,n-k}\n",
    "\\end{pmatrix} \\begin{pmatrix}\n",
    "    U_{k,k} & U_{n-k,k} \\\\\n",
    "    O_{k,n-k} & U_{n-k,n-k}\n",
    "\\end{pmatrix}$\n",
    "\n",
    "So Imagine we have $A_{k,k}$ singular, that means that $det(A_{k,k}) = 0$, that means, that principal minor is singular and matrix A is non-strictly regular. As far as LU-decomposition exists, we can write down: $A_{k,k} = L_{k,k}U_{k,k}$, then $det(A_{k,k}) = det(L_{k,k}U_{k,k}) = det(L_{k,k})det(U_{k,k}) = u_{11} \\dots u_{kk}$ must be equal to zero. But in fact, that if LU-decomposition exists, we denote that we do not divide by zero at every step of the Gaussian elimination, that means, that $u_{ii} \\neq 0$ for $i = 1,\\dots n$, that leads to fact that $det(A_{kk}) \\neq 0$. Contradiction!\n",
    "\n",
    "* Suppose vice versa, that it's not strictly regular, then $\\exists$ such index $k$, that $k$-th principal minor $det(A^{(k)}_{1} = 0)$. Matrix $A$ is strictly regular, that means in case of determinants $det(A^{(k+1)} \\neq 0)$. Let's notate matrix $B$ such as:\n",
    "\n",
    "$$ B = \\begin{pmatrix}\n",
    "    1 & 0 \\\\\n",
    "    -z & I\n",
    "\\end{pmatrix}$$\n",
    "\n",
    "then:\n",
    "\n",
    "$$BA = \\begin{pmatrix}\n",
    "    a & c^{T} \\\\\n",
    "    0 & A_1\n",
    "\\end{pmatrix}, $$ then from that we can assume, that $det(A^{(k+1)})det(B^{(k+1)}) = det(A^{(k+1)}) = a det(A^{(k)}_1) \\rightarrow det(A^{(k)}_1) \\neq 0 \\rightarrow$ contradiction! \n",
    "\n"
   ]
  },
  {
   "cell_type": "markdown",
   "metadata": {},
   "source": [
    "### 3. Stability of LU \n",
    "\n",
    "Let\n",
    "$A = \\begin{pmatrix}\n",
    "\\varepsilon & 1 & 0\\\\\n",
    "1 & 1 & 1 \\\\\n",
    "0 & 1 & 1\n",
    "\\end{pmatrix}.$ \n",
    "* (5 pts) Find analytically LU decomposition with and without pivoting for the matrix $A$.\n",
    "* (3 pts) Explain, why can the LU decomposition fail to approximate factors $L$ and $U$ for $|\\varepsilon|\\ll 1$ in computer arithmetic?"
   ]
  },
  {
   "cell_type": "markdown",
   "metadata": {},
   "source": [
    "### solution\n",
    "* For LU-decomposition to exist, matrix A must be strict regular, so principal minors must be non-singular. From this condition  $\\rightarrow a \\neq 0, a \\neq 1$. Let's make LU-decomposition, using Gaussian elimination\n",
    "\n",
    "$A = \\begin{pmatrix}\n",
    "\\varepsilon & 1 & 0\\\\\n",
    "1 & 1 & 1 \\\\\n",
    "0 & 1 & 1\n",
    "\\end{pmatrix} \\rightarrow^{1} \\begin{pmatrix}\n",
    "\\varepsilon & 1 & 0\\\\\n",
    "0 & 1 - \\frac{1}{\\varepsilon} & 1 \\\\\n",
    "0 & 1 & 1\n",
    "\\end{pmatrix} \\rightarrow^{2} \\begin{pmatrix}\n",
    "\\varepsilon & 1 & 0\\\\\n",
    "0 & 1 - \\frac{1}{\\varepsilon} & 1 \\\\\n",
    "0 & 0 & \\frac{1}{1 - \\varepsilon}\n",
    "\\end{pmatrix}  = U$. \n",
    "\n",
    "Corresponding matrix L to be calculated like: $M_1M_2A = U \\rightarrow A = M_1^{-1}M_2^{-1}U = LU \\rightarrow L = M_1^{-1}M_2^{-1}$, where $M_1$ and $M_2$ responsible for 1 and 2 transformation of matrix A (they are signed on arrows). \n",
    "$M_1 = \\begin{pmatrix}\n",
    "1 & 0 & 0\\\\\n",
    "-\\frac{1}{\\varepsilon} & 1  & 0 \\\\\n",
    "0 & 0 & 1\n",
    "\\end{pmatrix}$,  $M_2 = \\begin{pmatrix}\n",
    "1 & 0 & 0\\\\\n",
    "0 & 1  & 0 \\\\\n",
    "0 & -\\frac{1}{1 - \\frac{1}{\\varepsilon}} & 1\n",
    "\\end{pmatrix}$. So the L matrix is:\n",
    "\n",
    "$L = M_1^{-1}M_2^{-1} = \\begin{pmatrix}\n",
    "1 & 0 & 0\\\\\n",
    "\\frac{1}{\\varepsilon} & 1  & 0 \\\\\n",
    "0 & 0 & 1\n",
    "\\end{pmatrix} \\begin{pmatrix}\n",
    "1 & 0 & 0\\\\\n",
    "0 & 1  & 0 \\\\\n",
    "0 & \\frac{1}{1 - \\frac{1}{\\varepsilon}} & 1\n",
    "\\end{pmatrix} = \\begin{pmatrix}\n",
    "1 & 0 & 0\\\\\n",
    "\\frac{1}{\\varepsilon} & 1  & 0 \\\\\n",
    "0 & \\frac{1}{1 - \\frac{1}{\\varepsilon}} & 1\n",
    "\\end{pmatrix}$\n",
    "\n",
    "The row pivoting concept is to select at every step the index that is maximal in modulus, and put it onto the diagonal. It gives us the decomposition $A = PLU$, where $P$ is permutation matrix. This decomposition to maximize $A_{kk}$ that we divide over. It can protect from the computer arithmetical error, such as represented below.\n",
    "\n",
    "* During LU-decomposition proces we need to compute expressions, such as matrix elements: $l_{21} = \\frac{a_{21}}{u_{11}} = \\frac{1}{\\varepsilon}, u_{22} = \\frac{1}{\\varepsilon^{3}} + (1 - \\frac{1}{\\varepsilon^{2}})$. For elements of L matrix at every iteration we have to divide by $u_{ii}$, that includes division by $\\varepsilon$\n",
    "\n",
    "When we assume $\\varepsilon$ to be very small, for example $\\varepsilon = 10^{-n}, n = 10, 20, \\dots$, by calculating such values as represented above, we multiply by a great number, what can lead to a decomposition failure. As mentioned below, putting $\\varepsilon$ in $u_{22} \\approx 10^{3n} - 10^{2n} >> 1$. To avoid this, we may use permutation matrix, to make division by the biggest value (in absolute value) element."
   ]
  },
  {
   "cell_type": "markdown",
   "metadata": {},
   "source": [
    "### 4. Block LU \n",
    "\n",
    "Let $A = \\begin{bmatrix} A_{11} & A_{12} \\\\ A_{21} & A_{22} \\end{bmatrix}$ be a block matrix. The goal is to solve the linear system\n",
    "\n",
    "$$\n",
    "     \\begin{bmatrix} A_{11} & A_{12} \\\\ A_{21} & A_{22} \\end{bmatrix} \\begin{bmatrix} u_1 \\\\ u_2 \\end{bmatrix} = \\begin{bmatrix} f_1 \\\\ f_2 \\end{bmatrix}.\n",
    "$$\n",
    "\n",
    "* (2 pts) Using block elimination find matrix $S$ and right-hand side $\\hat{f_2}$ so that $u_2$ can be found from $S u_2 = \\hat{f_2}$. Note that the matrix $S$ is called <font color='red'> Schur complement </font> of the block $A_{11}$.\n",
    "* (4 pts) Using Schur complement properties prove that \n",
    "\n",
    "$$\\det(X+AB) = \\det(X)\\det(I+BX^{-1}A), $$\n",
    "\n",
    "\n",
    "where $X$ - nonsingular square matrix.\n",
    "* (4 pts) Let matrix $F \\in \\mathbb{R}^{m \\times n}$ and $G \\in \\mathbb{R}^{n \\times m}$. Prove that \n",
    "\n",
    "$$\\det(I_m - FG) = \\det(I_n - GF).$$"
   ]
  },
  {
   "cell_type": "markdown",
   "metadata": {},
   "source": [
    "## Problem 2 (QR decomposition) 30 pts\n",
    "\n",
    "### 1. Standard Gram-Schmidt algorithm\n",
    "Our goal is to orthogonalize a system of linearly independent vectors $v_1,\\dots,v_n$.\n",
    "The standard algorithm for this task is the Gram-Schmidt process:\n",
    "\n",
    "$$\n",
    "\\begin{split}\n",
    "u_1 &= v_1, \\\\\n",
    "u_2 &= v_2 - \\frac{(v_2, u_1)}{(u_1, u_1)} u_1, \\\\\n",
    "\\dots \\\\\n",
    "u_n &= v_n - \\frac{(v_n, u_1)}{(u_1, u_1)} u_1 - \\frac{(v_n, u_2)}{(u_2, u_2)} u_2 - \\dots - \\frac{(v_n, u_{n-1})}{(u_{n-1}, u_{n-1})} u_{n-1}.\n",
    "\\end{split}\n",
    "$$\n",
    "\n",
    "Obtained $u_1, \\dots, u_n$ are orthogonal vectors in exact arithmetics. Then to make the system orthonormal you should divide each of the vectors by its norm: $u_i := u_i/\\|u_i\\|$.\n",
    "The Gram-Schmidt process can be considered as a QR decomposition. Let us show that."
   ]
  },
  {
   "cell_type": "markdown",
   "metadata": {},
   "source": [
    "* (2 pts) Write out what is matrices $Q$ and $R$ obtained in the process above. \n",
    "\n",
    "* (5 pts) Implement in the ```pset2.py``` the described Gram-Schmidt algorithm as a function ```gram_schmidt_qr(A)``` that takes a rectangular matrix ```A``` and outputs ```Q,R```.\n",
    "\n",
    "* (3 pts) Create a square [Vandermonde matrix](https://en.wikipedia.org/wiki/Vandermonde_matrix) $V\\in\\mathbb{R}^{n\\times n},\\ n = 20$ defined by the vector $x$: ```x = np.linspace(0,1,n)``` (components of $x$ are spaced uniformly between 0 and 1). \n",
    "The loss of orthogonality can be described by the following error: $\\|Q^{\\top}Q-I\\|_2$, where $Q^{\\top}Q$ is called a Gram matrix. Compute QR decomposition of the created matrix $V$ with function that you have implemented and calculate error $\\|Q^{\\top}Q-I\\|_2$. Comment on the result.\n",
    "\n",
    "* (5 pts) The observed loss of orthogonality is a problem of this particular algorithm. Luckily, there is [a simple improvement to the algorithm above](https://en.wikipedia.org/wiki/Gram–Schmidt_process#Numerical_stability) that reduces the loss of orthogonality. Implement this modification in the ```pset2.py``` as a function ```modified_gram_schmidt_qr(A)``` such that input and output are similar to ```gram_schmidt_qr(A)```. \n",
    "* (3 pts) Compute QR decomposition of the matrix $V$ from the previous task with the function ```modified_gram_schmidt_qr(A)```.\n",
    "Compute error $\\|Q^{\\top}Q-I\\|_2$. Compare this error to the error obtained with a \"pure\" Gram-Schmidt and comment on the result."
   ]
  },
  {
   "cell_type": "markdown",
   "metadata": {},
   "source": [
    "### QR Description\n",
    "During Gram-Schmidt algorithm we orthogonalize a system of linearly independent vectors, represented by matrix  $A = [v_1,\\dots,v_n] \\rightarrow Q = [u_1,\\dots,u_n]$, where $u_i$ - orthonormal vectors $\\rightarrow Q^TQ = I \\rightarrow Q$ is unitary. \n",
    "\n",
    "From process, we can see, that:\n",
    "$v_k = \\sum_{i = 1}^{k}(u_i,v_k)u_k$, so to complete QR-decomposition, we denote matrix R, which is upper triangle:\n",
    "\n",
    "\n",
    "$$ R = \\begin{pmatrix}\n",
    "(u_1,v_1) & (u_1,v_2) & \\dots & (u_1,v_n) \\\\\n",
    "0 & (u_2,v_2) & \\dots & (u_2,v_n) \\\\\n",
    "\\dots & \\dots & \\dots & \\dots \\\\\n",
    "0 & 0 & \\dots & (u_n, v_n)\n",
    "\\end{pmatrix}\n",
    "$$"
   ]
  },
  {
   "cell_type": "code",
   "execution_count": 6,
   "metadata": {},
   "outputs": [],
   "source": [
    "# Implement the functions in the ```pset2.py``` file\n",
    "import numpy as np\n",
    "from pset2 import gram_schmidt_qr\n",
    "from pset2 import modified_gram_schmidt_qr\n",
    "\n",
    "# Your code is here"
   ]
  },
  {
   "cell_type": "code",
   "execution_count": 7,
   "metadata": {},
   "outputs": [],
   "source": [
    "def Vandermonde(n):\n",
    "    x = np.linspace(0, 1, n)\n",
    "    matrix = np.empty((n,n))\n",
    "    for i in range(n):\n",
    "        matrix[i] = x.transpose()**i\n",
    "    return matrix.T\n",
    "\n",
    "def error(Q):\n",
    "    n = Q.shape[0]\n",
    "    return np.linalg.norm(Q.T @ Q - np.eye(n,dtype=\"float64\"), ord = 2)"
   ]
  },
  {
   "cell_type": "code",
   "execution_count": 8,
   "metadata": {},
   "outputs": [
    {
     "name": "stdout",
     "output_type": "stream",
     "text": [
      "Error for Gram Schmidt: 9.979884638902252\n",
      "Error for MGS: 0.11618357690178956\n"
     ]
    }
   ],
   "source": [
    "n = 20\n",
    "Q,R = gram_schmidt_qr(Vandermonde(n))\n",
    "Q1,R1 = modified_gram_schmidt_qr(Vandermonde(n))\n",
    "print('Error for Gram Schmidt:', error(Q))\n",
    "print('Error for MGS:', error(Q1))"
   ]
  },
  {
   "cell_type": "markdown",
   "metadata": {},
   "source": [
    "### On GS's error \n",
    "##### Some facts based on GS wiki article\n",
    "\n",
    "Vandermonde matrix with $n = 20$ provides us very small elements in $v_i$, such as $(\\frac{1}{20})^{20}$, that provides us a small norm for $v_i$, as the result of process calculations are not exact, because of float value roundings.\n",
    "Represented example is very suitable to show, that GS method is numerically unstable, the loss of orthogonality is caused by rounding errors. "
   ]
  },
  {
   "cell_type": "markdown",
   "metadata": {},
   "source": [
    "### Comparison of GS with MGS\n",
    "The modificated GS algorithm (called modified Gram-Schmidt) gives the same result as the original formulas in exact arithmetic and fight against rounding errors, introducing smaller errors in finite-precision arithmetics \n"
   ]
  },
  {
   "cell_type": "markdown",
   "metadata": {},
   "source": [
    "### 2. Householder QR (10 pts)\n",
    "\n",
    "* (7 pts) Implement algorithm for computing QR decomposition based on Householder reflections as a function ```householder_qr(A)``` that takes a rectangular matrix ```A``` and outputs ```Q,R```.\n",
    "\n",
    "\n",
    "* (2 pts) Apply it to the Vandermonde matrix $V$ created above. Print out the error $\\|Q^{\\top}Q-I\\|_2$, where $Q$ is given by ```householder_qr(A)```. Compare it to the corresponding results of Gram-Schmidt and modified Gram-Schmidt algorithms and comment on it. \n",
    "\n",
    "\n",
    "\n",
    "* (3 pts) For values of $n = \\{2,25,100,250,500\\}$, create a $B\\in\\mathbb{R}^{n\\times n}$ and an upper triangular matrix $R\\in\\mathbb{R}^{n\\times n}$ both filled with standard normal entries. Use ```numpy``` (or ```scipy```) built-in QR decomposition function to obtain a random orthogonal matrix $Q$ from the decomposition of $B$. Then compute $A = QR$ and apply your Gram-Schmidt and Householder algorithms to find the $Q$ and $R$ factors of $A$ – denoted as $\\hat{Q}$ and $\\hat{R}$. \n",
    "Calculate relative errors\n",
    "$$\\frac{\\|R-\\hat{R}\\|_2}{\\|R\\|_2}, \\frac{\\|Q-\\hat{Q}\\|_2}{\\|Q\\|_2}, \\frac{\\|A-\\hat{Q}\\hat{R}\\|_2}{\\|A\\|_2}$$ \n",
    "for each value of $n$ and for both algorithms. \n",
    "**Note:** scale (multiply corresponding rows/columns by -1) $Q, R,\\hat{Q},\\hat{R}$ such that diagonal elements of $R$ and $\\hat{R}$ be positive.    \n",
    "    * Comment on the relative errors in $Q$ and $R$ (forward error) compared to ones in $QR$ (backward error).\n",
    "    * Comment on the backward error obtained for Gram-Schmidt compared to Householder.   "
   ]
  },
  {
   "cell_type": "code",
   "execution_count": 9,
   "metadata": {},
   "outputs": [],
   "source": [
    "# Implement the function in the pset2.py file\n",
    "from pset2 import householder_qr\n",
    "# Your code is here"
   ]
  },
  {
   "cell_type": "code",
   "execution_count": 10,
   "metadata": {},
   "outputs": [
    {
     "name": "stdout",
     "output_type": "stream",
     "text": [
      "Error for Householder: 2.199216984679259e-15\n"
     ]
    }
   ],
   "source": [
    "n = 20\n",
    "Q2,R2 = householder_qr(Vandermonde(n))\n",
    "print('Error for Householder:', error(Q2))"
   ]
  },
  {
   "cell_type": "markdown",
   "metadata": {},
   "source": [
    "### Comparison of HH to GS and GMS\n",
    "From represented above result we can see, that Householder based QR decomposition is the most numerically stable way of processing."
   ]
  },
  {
   "cell_type": "code",
   "execution_count": 11,
   "metadata": {},
   "outputs": [],
   "source": [
    "def BR(n, h, l):\n",
    "    return np.random.uniform(size=(n,n), high=h, low=l), np.triu(np.random.uniform(size=(n,n), high=h, low=l))\n",
    "\n",
    "def Error(A,B):\n",
    "    return np.linalg.norm(A - B, ord = 2)/np.linalg.norm(A, ord = 2)"
   ]
  },
  {
   "cell_type": "code",
   "execution_count": 12,
   "metadata": {},
   "outputs": [],
   "source": [
    "def test(N):\n",
    "    R_error_GS = []\n",
    "    Q_error_GS = []\n",
    "    QR_error_GS = []\n",
    "    R_error_HH = []\n",
    "    Q_error_HH = []\n",
    "    QR_error_HH = []\n",
    "    for item in N:\n",
    "        B,R =  BR(item, 10, 20)\n",
    "        Q,_ = np.linalg.qr(B)\n",
    "        A = Q@R \n",
    "        Q_hat,R_hat = gram_schmidt_qr(A)\n",
    "        R_error_GS.append(Error(R, R_hat))\n",
    "        Q_error_GS.append(Error(Q, Q_hat))\n",
    "        QR_error_GS.append(Error(A, Q_hat@R_hat))\n",
    "        Q_hat1,R_hat1 = householder_qr(A)\n",
    "        R_error_HH.append(Error(R, R_hat1))\n",
    "        Q_error_HH.append(Error(Q,Q_hat1))\n",
    "        QR_error_HH.append(Error(A, Q_hat1@R_hat1))\n",
    "    return R_error_GS, Q_error_GS, QR_error_GS, R_error_HH, Q_error_HH, QR_error_HH\n"
   ]
  },
  {
   "cell_type": "code",
   "execution_count": 13,
   "metadata": {},
   "outputs": [],
   "source": [
    "import matplotlib.pyplot as plt"
   ]
  },
  {
   "cell_type": "code",
   "execution_count": 14,
   "metadata": {},
   "outputs": [],
   "source": [
    "x = [2,25,100,250,500]\n",
    "data = test(x)"
   ]
  },
  {
   "cell_type": "code",
   "execution_count": 15,
   "metadata": {},
   "outputs": [
    {
     "data": {
      "image/png": "[encoded data removed]",
      "text/plain": [
       "<Figure size 1080x720 with 1 Axes>"
      ]
     },
     "metadata": {
      "needs_background": "light"
     },
     "output_type": "display_data"
    }
   ],
   "source": [
    "plt.figure(figsize = (15,10))\n",
    "plt.title('Errors of QR decompositions, based on Gram Schmidt algorithm and Householder reflections')\n",
    "plt.loglog(x, data[0],'o--', lw = 2, label = 'R forward error GS')\n",
    "plt.loglog(x, data[1],'o--', lw = 2, label = 'Q forward error GS')\n",
    "plt.loglog(x, data[2],'o--', lw = 2, label = 'QR backward error GS')\n",
    "plt.loglog(x, data[3],'o--', lw = 2, label = 'R forward error HH')\n",
    "plt.loglog(x, data[4],'o--', lw = 2, label = 'Q forward error HH')\n",
    "plt.loglog(x, data[5],'o--', lw = 2, label = 'QR backward error HH')\n",
    "plt.legend()\n",
    "plt.grid(True)\n",
    "plt.xlabel('Size, n')\n",
    "plt.ylabel('Error')\n",
    "plt.show()"
   ]
  },
  {
   "cell_type": "markdown",
   "metadata": {},
   "source": [
    "### Some comments on errors \n",
    "Represented above dependency also proves, that HH-based algorithm is more numerically stable. Also from the graph we can assume that backward error for both algos is smaller, especially for HH-based algorithm, rather than forward one. Backward error less than forward errors because of the fact, that $\\|A\\|_2$ is submultiplicative. "
   ]
  },
  {
   "cell_type": "markdown",
   "metadata": {},
   "source": [
    "# Add smth about backward/forward error"
   ]
  },
  {
   "cell_type": "markdown",
   "metadata": {},
   "source": [
    "## Problem 3 (Word2Vec as Matrix Factorization) 45 pts\n",
    "\n",
    "In this assignment you are supposed to apply SVD to training your own [word embedding model](https://en.wikipedia.org/wiki/Word_embedding) which maps English words to vectors of real numbers.\n",
    "\n",
    "Skip-Gram Negative Sampling (SGNS) word embedding model, commonly known as **word2vec** ([Mikolov et al., 2013](http://papers.nips.cc/paper/5021-distributed-representations-of-words-and-phrases-and-their-compositionality.pdf)), is usually optimized by stochastic gradient descent. However, the optimization of SGNS objective can be viewed as implicit matrix factorization objective as was shown in ([Levy and Goldberg, 2015](http://papers.nips.cc/paper/5477-neural-word-embedding-as-implicit-matrix-factorization.pdf))."
   ]
  },
  {
   "cell_type": "markdown",
   "metadata": {},
   "source": [
    "###### 1. Notation\n",
    "Assume we have a text corpus given as a sequence of words $\\{w_1,w_2,\\dots,w_n\\}$ where $n$ may be larger than $10^{12}$ and $w_i \\in \\mathcal{V}$ belongs to a vocabulary of words $\\mathcal{V}$. A word $c \\in \\mathcal{V}$ is called *a context* of word $w_i$ if they are found together in the text. More formally, given some measure $L$ of closeness between two words (typical choice is $L=2$), a word $c \\in \\mathcal{V}$ is called a context if $c \\in \\{w_{i-L}, \\dots, w_{i-1}, w_{i+1}, \\dots, w_{i+L} \\}$ Let $\\mathbf{w},\\mathbf{c}\\in\\mathbb{R}^d$ be the *word embeddings* of word $w$ and context $c$, respectively. Assume they are specified by the mapping  $\\Phi:\\mathcal{V}\\rightarrow\\mathbb{R}^d$, so $\\mathbf{w}=\\Phi(w)$. The ultimate goal of SGNS word embedding model is to fit a good mapping $\\Phi$.\n",
    "\n",
    "Let $\\mathcal{D}$ be a multiset of all word-contexts pairs observed in the corpus. In the SGNS model, the probability that word-context pair $(w,c)$ is observed in the corpus is modeled as the following distribution:\n",
    "\n",
    "$$\n",
    "P(\\#(w,c)\\neq 0|w,c) = \\sigma(\\mathbf{w}^\\top \\mathbf{c}) = \\frac{1}{1 + \\exp(-\\mathbf{w}^\\top \\mathbf{c})},\n",
    "$$\n",
    "\n",
    "where $\\#(w,c)$ is the number of times the pair $(w,c)$ appears in $\\mathcal{D}$ and $\\mathbf{w}^\\top\\mathbf{c}$ is the scalar product of vectors $\\mathbf{w}$ and $\\mathbf{c}$. Two important quantities which we will also use further are the number of times the word $w$ and the context $c$ appear in $\\mathcal{D}$, which can be computed as\n",
    "\n",
    "$$\n",
    "\\#(w) = \\sum_{c\\in\\mathcal{V}} \\#(w,c), \\quad \\#(c) = \\sum_{w\\in\\mathcal{V}} \\#(w,c).\n",
    "$$\n"
   ]
  },
  {
   "cell_type": "markdown",
   "metadata": {},
   "source": [
    "###### 2. Optimization objective"
   ]
  },
  {
   "cell_type": "markdown",
   "metadata": {},
   "source": [
    "Vanilla word embedding models are trained by maximizing log-likelihood of observed word-context pairs, namely\n",
    "\n",
    "$$\n",
    "\\mathcal{L} = \\sum_{w \\in \\mathcal{V}} \\sum_{c \\in \\mathcal{V}} \\#(w,c) \\log \\sigma(\\mathbf{w}^\\top\\mathbf{c}) \\rightarrow \\max_{\\mathbf{w},\\mathbf{c} \\in \\mathbb{R}^d}.\n",
    "$$"
   ]
  },
  {
   "cell_type": "markdown",
   "metadata": {},
   "source": [
    "Skip-Gram Negative Sampling approach modifies the objective by additionally minimizing the log-likelihood of random word-context pairs, so called *negative samples*. This idea incorporates some useful linguistic information that some number ($k$, usually $k=5$) of word-context pairs *are not* found together in the corpus which usually results in word embeddings of higher quality. The resulting optimization problem is\n",
    "\n",
    "$$\n",
    "\\mathcal{L} = \\sum_{w \\in \\mathcal{V}} \\sum_{c \\in \\mathcal{V}} \\left( \\#(w,c) \\log \\sigma(\\mathbf{w}^\\top\\mathbf{c}) + k \\cdot \\mathbb{E}_{c'\\sim P_\\mathcal{D}} \\log \\sigma (-\\mathbf{w}^\\top\\mathbf{c}) \\right) \\rightarrow \\max_{\\mathbf{w},\\mathbf{c} \\in \\mathbb{R}^d},\n",
    "$$\n",
    "\n",
    "where $P_\\mathcal{D}(c)=\\frac{\\#(c)}{|\\mathcal{D}|}$ is a probability distribution over word contexts from which negative samples are drawn."
   ]
  },
  {
   "cell_type": "markdown",
   "metadata": {},
   "source": [
    "[Levy and Goldberg, 2015](http://papers.nips.cc/paper/5477-neural-word-embedding-as-implicit-matrix-factorization.pdf) showed that this objective can be equivalently written as\n",
    "\n",
    "$$\n",
    "\\mathcal{L} = \\sum_{w \\in \\mathcal{V}} \\sum_{c \\in \\mathcal{V}} f(w,c) = \\sum_{w \\in \\mathcal{V}} \\sum_{c \\in \\mathcal{V}} \\left( \\#(w,c) \\log \\sigma(\\mathbf{w}^\\top\\mathbf{c}) + \\frac{k\\cdot\\#(w)\\cdot\\#(c)}{|\\mathcal{D}|} \\log \\sigma (-\\mathbf{w}^\\top\\mathbf{c}) \\right) \\rightarrow \\max_{\\mathbf{w},\\mathbf{c} \\in \\mathbb{R}^d},\n",
    "$$\n",
    "\n",
    "A crucial observation is that this loss function depends only on the scalar product $\\mathbf{w}^\\top\\mathbf{c}$ but not on embedding $\\mathbf{w}$ and $\\mathbf{c}$ separately."
   ]
  },
  {
   "cell_type": "markdown",
   "metadata": {},
   "source": [
    "###### 3. Matrix factorization problem statement"
   ]
  },
  {
   "cell_type": "markdown",
   "metadata": {},
   "source": [
    "Let $|\\mathcal{V}|=m$, $W \\in \\mathbb{R}^{m\\times d}$ and $C \\in \\mathbb{R}^{m\\times d}$ be matrices, where each row $\\mathbf{w}\\in\\mathbb{R}^d$ of matrix $W$ is the word embedding of the corresponding word $w$ and each row $\\mathbf{c}\\in\\mathbb{R}^d$ of matrix $C$ is the context embedding of the corresponding context $c$. SGNS embeds both words and their contexts into a low-dimensional space $\\mathbb{R}^d$, resulting in the word and context matrices $W$ and $C$. The rows of matrix $W$ are typically used in NLP tasks (such as computing word similarities) while $C$ is ignored. It is nonetheless instructive to consider the product $W^\\top C = M$. Viewed this way, SGNS can be described as factorizing an implicit matrix $M$ of dimensions $m \\times m$ into two smaller matrices.\n",
    "\n",
    "Which matrix is being factorized? A matrix entry $M_{wc}$ corresponds to the dot product $\\mathbf{w}^\\top\\mathbf{c}$ . Thus, SGNS is factorizing a matrix in which each row corresponds to a word $w \\in \\mathcal{V}$ , each column corresponds to a context $c \\in \\mathcal{V}$, and each cell contains a quantity $f(w,c)$ reflecting the strength of association between that particular word-context pair. Such word-context association matrices are very common in the NLP and word-similarity literature. That said, the objective of SGNS does not explicitly state what this association metric is. What can we say about the association function $f(w,c)$? In other words, which matrix is SGNS factorizing? Below you will find the answers."
   ]
  },
  {
   "cell_type": "markdown",
   "metadata": {},
   "source": [
    "### Task 1 (theoretical) 5 pts"
   ]
  },
  {
   "cell_type": "markdown",
   "metadata": {},
   "source": [
    "Solve SGNS optimization problem with respect to the $\\mathbf{w}^\\top\\mathbf{c}$ and show that the matrix being factorized is\n",
    "\n",
    "$$\n",
    "M_{wc} = \\mathbf{w}^\\top\\mathbf{c} = \\log \\left( \\frac{\\#(w,c) \\cdot |\\mathcal{D}|}{k\\cdot\\#(w)\\cdot\\#(c)} \\right)\n",
    "$$\n",
    "\n",
    "**Hint:** Denote $x=\\mathbf{w}^\\top\\mathbf{c}$, rewrite SGNG optimization problem in terms of $x$ and solve it."
   ]
  },
  {
   "cell_type": "markdown",
   "metadata": {},
   "source": [
    "**Note:** This matrix is called Shifted Pointwise Mutual Information (SPMI) matrix, as its elements can be written as\n",
    "\n",
    "$$\n",
    "\\text{SPMI}(w,c) = M_{wc} = \\mathbf{w}^\\top\\mathbf{c} = \\text{PMI}(w,c) - \\log k\n",
    "$$\n",
    "\n",
    "and $\\text{PMI}(w,c) = \\log \\left( \\frac{\\#(w,c) \\cdot |\\mathcal{D}|}{\\#(w)\\cdot\\#(c)} \\right)$ is the well-known [pointwise mutual information](https://en.wikipedia.org/wiki/Pointwise_mutual_information) of $(w,c)$."
   ]
  },
  {
   "cell_type": "code",
   "execution_count": 16,
   "metadata": {},
   "outputs": [],
   "source": [
    "# Your proof is here"
   ]
  },
  {
   "cell_type": "markdown",
   "metadata": {},
   "source": [
    "### Task 2 (practical) 40 pts"
   ]
  },
  {
   "cell_type": "code",
   "execution_count": 17,
   "metadata": {},
   "outputs": [],
   "source": [
    "import os\n",
    "import numpy as np\n",
    "from sklearn.metrics.pairwise import cosine_similarity\n",
    "from scipy.sparse.linalg import svds\n",
    "from scipy.sparse import csr_matrix"
   ]
  },
  {
   "cell_type": "markdown",
   "metadata": {},
   "source": [
    "1. Download dataset [enwik8](http://mattmahoney.net/dc/enwik8.zip) of compressed Wikipedia articles and preprocess raw data with Perl script **main_.pl**. This script will clean all unnecessary symbols, make all words to lowercase, and produce only sentences with words.\n",
    "```\n",
    "wget http://mattmahoney.net/dc/enwik8.zip\n",
    "unzip enwik8.zip\n",
    "mkdir data\n",
    "perl main_.pl enwik8 > data/enwik8.txt\n",
    "```"
   ]
  },
  {
   "cell_type": "code",
   "execution_count": 18,
   "metadata": {},
   "outputs": [],
   "source": [
    "# Load enwik 8\n",
    "\n",
    "import re\n",
    "file = open(\"data/enwik8.txt\", \"r\")\n",
    "doclist = [line for line in file]\n",
    "docstr = ''.join(doclist)\n",
    "sentences = re.split(r'[.!?]', docstr)\n",
    "sentences = [sentence.split() for sentence in sentences if len(sentence) > 1]"
   ]
  },
  {
   "cell_type": "code",
   "execution_count": 19,
   "metadata": {
    "scrolled": true
   },
   "outputs": [
    {
     "name": "stdout",
     "output_type": "stream",
     "text": [
      "['anarchism', 'originated', 'as', 'a', 'term', 'of', 'abuse', 'first', 'used', 'against', 'early', 'working', 'class', 'radicals', 'including', 'the', 'diggers', 'of', 'the', 'english', 'revolution', 'and', 'the', 'sans', 'culottes', 'of', 'the', 'french', 'revolution']\n"
     ]
    }
   ],
   "source": [
    "print (sentences[0])"
   ]
  },
  {
   "cell_type": "markdown",
   "metadata": {},
   "source": [
    "2. Construct the word vocabulary from the obtained sentences which enumerates words which occur more than $r=200$ times in the corpus."
   ]
  },
  {
   "cell_type": "code",
   "execution_count": 20,
   "metadata": {},
   "outputs": [],
   "source": [
    "from collections import Counter"
   ]
  },
  {
   "cell_type": "code",
   "execution_count": 21,
   "metadata": {},
   "outputs": [],
   "source": [
    "def create_vocabulary(sentences, r=200):\n",
    "    vocabulary = {}\n",
    "    # Your code is here\n",
    "    words = []\n",
    "    for item in sentences:\n",
    "        words.extend(item)\n",
    "    count = Counter(words)\n",
    "    i = 0\n",
    "    for item in count:\n",
    "        if count[str(item)]>=r and item not in vocabulary:\n",
    "            vocabulary[item] = i \n",
    "            i += 1\n",
    "    return vocabulary"
   ]
  },
  {
   "cell_type": "code",
   "execution_count": 22,
   "metadata": {},
   "outputs": [],
   "source": [
    "vocab = create_vocabulary(sentences)"
   ]
  },
  {
   "cell_type": "markdown",
   "metadata": {},
   "source": [
    "3. Scan the text corpus with sliding window of size $5$ and step $1$ (which corresponds to $L$=2) and construct co-occurrence word-context matrix $D$ with elements $D_{wc}=\\#(w,c)$. Please, ignore words which occur less than $r=200$ times, but include them into the sliding window. Please, see the graphical illustration of the procedure described."
   ]
  },
  {
   "cell_type": "markdown",
   "metadata": {},
   "source": [
    "![Sliding window](sliding_window.png)"
   ]
  },
  {
   "cell_type": "code",
   "execution_count": 23,
   "metadata": {},
   "outputs": [],
   "source": [
    "def create_corpus_matrix(sentences, vocabulary):\n",
    "    # Your code is here\n",
    "    n = len(vocabulary)\n",
    "    corpus_matrix = np.zeros((n,n))\n",
    "    for i in range(len(sentences)):\n",
    "        for  j in range(len(sentences[i])):\n",
    "            if sentences[i][j] in vocabulary:\n",
    "                if max(0,j-2) == j-2:\n",
    "                    for word in sentences[i][j-2:j]:\n",
    "                        if word in vocabulary:\n",
    "                            corpus_matrix[vocabulary[sentences[i][j]], vocabulary[word]] += 1\n",
    "                        else:\n",
    "                            continue\n",
    "                else:\n",
    "                    for word in sentences[i][0:j]:\n",
    "                        if word in vocabulary:\n",
    "                                corpus_matrix[vocabulary[sentences[i][j]], vocabulary[word]] += 1\n",
    "                        else:\n",
    "                            continue\n",
    "                if min(j+3, len(sentences[i])) == j+3:\n",
    "                    for word in sentences[i][j+1:j+3]:\n",
    "                        if word in vocabulary:\n",
    "                                corpus_matrix[vocabulary[sentences[i][j]], vocabulary[word]] += 1\n",
    "                        else:\n",
    "                            continue\n",
    "                else:\n",
    "                    for word in sentences[i][j+1:len(sentences[i])]:\n",
    "                        if word in vocabulary:\n",
    "                                corpus_matrix[vocabulary[sentences[i][j]], vocabulary[word]] += 1\n",
    "                        else:\n",
    "                            continue\n",
    "            else:\n",
    "                continue\n",
    "    return corpus_matrix"
   ]
  },
  {
   "cell_type": "code",
   "execution_count": 24,
   "metadata": {},
   "outputs": [],
   "source": [
    "D = create_corpus_matrix(sentences, vocab)"
   ]
  },
  {
   "cell_type": "markdown",
   "metadata": {},
   "source": [
    "4. To find good word embeddings, [Levy and Goldberg, 2015](http://papers.nips.cc/paper/5477-neural-word-embedding-as-implicit-matrix-factorization.pdf) proposed to find rank-$d$ SVD of Shifted Positive Pointwise Mutual Information (SPPMI) matrix\n",
    "\n",
    "$$\n",
    "U \\Sigma V^\\top \\approx \\text{SPPMI},\n",
    "$$\n",
    "\n",
    "where $\\text{SPPMI}(w, c) = \\max\\left(\\text{SPMI}(w, c), 0 \\right)$ and $\\text{SPMI}(w, c)$ is the element of the matrix $\\text{SPPMI}$ at position $(w, c)$.\n",
    "Then use $W=U\\sqrt{\\Sigma}$ as word embedding matrix. Your task is to reproduce their results. Write function constructs $\\text{SPPMI}$ matrix, computes its SVD and produces word-vectors matrix $W$. Pay attention that $\\text{SPPMI}$ matrix is **sparse**!  "
   ]
  },
  {
   "cell_type": "code",
   "execution_count": 25,
   "metadata": {},
   "outputs": [],
   "source": [
    "def compute_embeddings(D, k, d=200):\n",
    "    # Your code is here\n",
    "    rows = np.sum(D, axis = 1)[:, np.newaxis]\n",
    "    clmn = np.sum(D, axis = 0)\n",
    "    M = np.maximum(np.log(np.sum(D)/k*((D/rows)/clmn) ),0)\n",
    "    U,S,V = svds(csr_matrix(M),d)\n",
    "    embedding_matrix = U @ np.diag(np.sqrt(S))\n",
    "    return embedding_matrix"
   ]
  },
  {
   "cell_type": "code",
   "execution_count": 26,
   "metadata": {},
   "outputs": [
    {
     "name": "stderr",
     "output_type": "stream",
     "text": [
      "/Users/dzisandy/anaconda3/lib/python3.6/site-packages/ipykernel_launcher.py:5: RuntimeWarning: divide by zero encountered in log\n",
      "  \"\"\"\n"
     ]
    }
   ],
   "source": [
    "k = 5 # negative sampling parameter\n",
    "W = compute_embeddings(D, k)"
   ]
  },
  {
   "cell_type": "markdown",
   "metadata": {},
   "source": [
    "5. Write class **WordVectors** using provided template."
   ]
  },
  {
   "cell_type": "code",
   "execution_count": 97,
   "metadata": {},
   "outputs": [],
   "source": [
    "class WordVectors:\n",
    "    \n",
    "    def __init__(self, vocabulary, embedding_matrix):\n",
    "        self.vocab = vocabulary\n",
    "        self.W = embedding_matrix\n",
    "        self.inv_vocab = {v: k for k, v in self.vocab.items()}\n",
    "        \n",
    "    def word_vector(self, word):\n",
    "        \"\"\" \n",
    "        Takes word and returns its word vector.\n",
    "        \"\"\"\n",
    "#         Your code is here\n",
    "        word_vector = self.embedding_matrix[self.vocab[word]]\n",
    "        return word_vector\n",
    "    \n",
    "    def nearest_words(self, word, top_n=10):\n",
    "        \"\"\" \n",
    "        Takes word from the vocabulary and returns its top_n\n",
    "        nearest neighbors in terms of cosine similarity.\n",
    "        \"\"\"\n",
    "#         Your code is here\n",
    "        cos = np.zeros(len(self.vocab))\n",
    "        W_norm = self.W[self.vocab[word]] / np.linalg.norm(self.W[self.vocab[word]])\n",
    "        for i in range(len(self.vocab)):\n",
    "            cos[i] = np.dot(W_norm,self.W[i]) / np.linalg.norm(self.W[i])\n",
    "        neighbors = [(self.inv_vocab[i], round(cos[i],3)) for i in np.argsort(cos)[-(top_n+1):-1]][::-1]\n",
    "        return neighbors"
   ]
  },
  {
   "cell_type": "code",
   "execution_count": 98,
   "metadata": {},
   "outputs": [],
   "source": [
    "model = WordVectors(vocab, W)"
   ]
  },
  {
   "cell_type": "code",
   "execution_count": 99,
   "metadata": {},
   "outputs": [
    {
     "data": {
      "text/plain": [
       "[('computation', 0.547),\n",
       " ('mathematical', 0.532),\n",
       " ('calculations', 0.499),\n",
       " ('polynomial', 0.485),\n",
       " ('calculation', 0.473),\n",
       " ('practical', 0.46),\n",
       " ('statistical', 0.456),\n",
       " ('symbolic', 0.455),\n",
       " ('geometric', 0.441),\n",
       " ('simplest', 0.438)]"
      ]
     },
     "execution_count": 99,
     "metadata": {},
     "output_type": "execute_result"
    }
   ],
   "source": [
    "model.nearest_words('numerical')"
   ]
  },
  {
   "cell_type": "code",
   "execution_count": 100,
   "metadata": {},
   "outputs": [
    {
     "data": {
      "text/plain": [
       "[('differential', 0.759),\n",
       " ('equations', 0.724),\n",
       " ('equation', 0.682),\n",
       " ('continuous', 0.674),\n",
       " ('multiplication', 0.674),\n",
       " ('integral', 0.672),\n",
       " ('algebraic', 0.667),\n",
       " ('vector', 0.654),\n",
       " ('algebra', 0.63),\n",
       " ('inverse', 0.622)]"
      ]
     },
     "execution_count": 100,
     "metadata": {},
     "output_type": "execute_result"
    }
   ],
   "source": [
    "model.nearest_words('linear')"
   ]
  },
  {
   "cell_type": "code",
   "execution_count": 101,
   "metadata": {},
   "outputs": [
    {
     "data": {
      "text/plain": [
       "[('geometry', 0.795),\n",
       " ('calculus', 0.73),\n",
       " ('algebraic', 0.716),\n",
       " ('differential', 0.687),\n",
       " ('equations', 0.665),\n",
       " ('equation', 0.648),\n",
       " ('theorem', 0.647),\n",
       " ('topology', 0.634),\n",
       " ('linear', 0.63),\n",
       " ('integral', 0.618)]"
      ]
     },
     "execution_count": 101,
     "metadata": {},
     "output_type": "execute_result"
    }
   ],
   "source": [
    "model.nearest_words('algebra')"
   ]
  },
  {
   "cell_type": "code",
   "execution_count": 102,
   "metadata": {},
   "outputs": [
    {
     "data": {
      "text/plain": [
       "[('communism', 0.792),\n",
       " ('anarcho', 0.787),\n",
       " ('capitalism', 0.784),\n",
       " ('socialism', 0.752),\n",
       " ('liberalism', 0.727),\n",
       " ('criticisms', 0.705),\n",
       " ('capitalist', 0.662),\n",
       " ('fascism', 0.565),\n",
       " ('anarchist', 0.527),\n",
       " ('marxist', 0.518)]"
      ]
     },
     "execution_count": 102,
     "metadata": {},
     "output_type": "execute_result"
    }
   ],
   "source": [
    "model.nearest_words(\"anarchism\")"
   ]
  },
  {
   "cell_type": "code",
   "execution_count": 103,
   "metadata": {},
   "outputs": [
    {
     "data": {
      "text/plain": [
       "[('ukraine', 0.671),\n",
       " ('russia', 0.629),\n",
       " ('poland', 0.55),\n",
       " ('belarus', 0.538),\n",
       " ('yugoslavia', 0.538),\n",
       " ('romania', 0.517),\n",
       " ('serbia', 0.507),\n",
       " ('austria', 0.5),\n",
       " ('hungary', 0.466),\n",
       " ('bulgaria', 0.43)]"
      ]
     },
     "execution_count": 103,
     "metadata": {},
     "output_type": "execute_result"
    }
   ],
   "source": [
    "model.nearest_words(\"ussr\")"
   ]
  },
  {
   "cell_type": "code",
   "execution_count": 104,
   "metadata": {},
   "outputs": [
    {
     "data": {
      "text/plain": [
       "[('hop', 0.828),\n",
       " ('hip', 0.817),\n",
       " ('funk', 0.758),\n",
       " ('rock', 0.737),\n",
       " ('punk', 0.706),\n",
       " ('music', 0.676),\n",
       " ('pop', 0.666),\n",
       " ('scene', 0.659),\n",
       " ('band', 0.657),\n",
       " ('jazz', 0.625)]"
      ]
     },
     "execution_count": 104,
     "metadata": {},
     "output_type": "execute_result"
    }
   ],
   "source": [
    "model.nearest_words(\"rap\")"
   ]
  },
  {
   "cell_type": "markdown",
   "metadata": {},
   "source": [
    "6. Calculate top 10 nearest neighbours with the corresponding cosine similarities for the words {numerical, linear, algebra} and insert them in the correspoding functions in ```pset2.py```."
   ]
  },
  {
   "cell_type": "markdown",
   "metadata": {},
   "source": [
    "# Problem 4 (eigenvalues)  45 pts\n",
    "\n",
    "### 1. Theoretical tasks\n",
    "\n",
    "* (5 pts) Prove that normal matrix is Hermitian iff its eigenvalues are real. Prove that normal matrix is unitary iff its eigenvalues satisfy $|\\lambda| = 1$. \n",
    "\n",
    "* (5 pts) The following problem illustrates instability of the Jordan form. Find theoretically the eigenvalues of the perturbed Jordan block:\n",
    "\n",
    "$$\n",
    "    J(\\varepsilon) = \n",
    "    \\begin{bmatrix} \n",
    "     \\lambda & 1 & & & 0 \\\\ \n",
    "     & \\lambda & 1 & & \\\\ \n",
    "     &  & \\ddots & \\ddots & \\\\ \n",
    "     & & & \\lambda & 1 \\\\ \n",
    "     \\varepsilon & & & & \\lambda  \\\\ \n",
    "    \\end{bmatrix}_{n\\times n}\n",
    "$$\n",
    "\n",
    "Comment how eigenvalues of $J(0)$ are perturbed for large $n$."
   ]
  },
  {
   "cell_type": "markdown",
   "metadata": {},
   "source": [
    "* Let $A$ be a hermitian matrix (by definition $A^* = A$). Equation for eigenvalues: $Ax = \\lambda x, x \\neq 0$. Consider hermitian product:\n",
    "\n",
    "$$(Ax,x) = (\\lambda x,x) = (\\lambda x)^*x = \\lambda^*(x,x)$$\n",
    "\n",
    "$$(Ax,x) = (x,A^*x) = (x,Ax) =  (x, \\lambda x) = \\lambda (x,x) \\rightarrow \\lambda = \\lambda^* \\rightarrow \\lambda \\in R$$\n",
    "Where $\\lambda^*$ denotes complex conjugate of the complex eigenvalue $\\lambda$.\n",
    "\n",
    "Now let's prove, that if eigenvalues are real $\\rightarrow$ matrix is Hermitian.\n",
    "$$(Ax,x) = \\lambda^*(x,x)$$\n",
    "$$(A^*x,x) = \\lambda(x,x) \\rightarrow$$ due to fact, that $$ \\lambda^* = \\lambda \\rightarrow A = A^*$$ Matrix $A$ is  Hermitian\n",
    "\n",
    "* Matrix is unitary (by definition) $U^*U = UU^* = I$.\n",
    "\n",
    "$$(Ux,Ux) = (\\lambda x, \\lambda x) = (U^*Ux,x) \\rightarrow \\lambda^2(x,x) = (x,x) \\rightarrow \\lambda^2 = 1 \\rightarrow |\\lambda| = 1 $$\n",
    "\n",
    "Since $A$ is normal, it is diagonalizable, so there exists a basis of eigenvectors and any vector of our space can be represented as a sum of eigenvectors. It is sufficient to prove unitary property for one arbitrary eigenvector $x$. Let's prove $|\\lambda| = 1 \\rightarrow U$- unitary\n",
    "\n",
    "$$(Ux,Ux) = (U^*Ux,x) = \\lambda^2 (x,x) = (x,x) \\rightarrow U^*U = UU^* = I $$\n",
    "\n",
    "* Let $\\xi$ denotes new eigenvalues (the variable for characteristic polynomial). We need to compute determinant (use column decomposition on the first column)\n",
    "$$\n",
    "f(\\xi)=\\text{det}(J(\\epsilon)-\\xi I)= \\epsilon (-1)^{n+1}+(\\lambda-\\xi)(\\lambda-\\xi)^{n-1}.\n",
    "$$\n",
    "Eigenvalues are the roots of polynomial $f(\\xi)$:\n",
    "$$\n",
    "(\\lambda-\\xi)^{n}=\\epsilon (-1)^{n}.\n",
    "$$\n",
    "Let's denote $z=\\lambda-\\xi=\\vert z \\vert e^{i\\psi}$ for some $\\vert z \\vert$ and $\\psi$ to be defined.\n",
    "$$\n",
    "\\vert z \\vert^n = \\epsilon, \\quad i\\psi n = i\\pi n + 2i\\pi k, k \\in Z\n",
    "$$\n",
    "so $$\\lambda-\\xi=\\sqrt[\\leftroot{1}\\uproot{1}n]{\\epsilon}\\exp{\\frac{\\pi n + 2\\pi k}{n}i}$$ and $$\\xi=\\lambda-\\sqrt[\\leftroot{1}\\uproot{1}n]{\\epsilon}\\exp{\\frac{\\pi n + 2\\pi k}{n}i}$$ are the new eigenvalues. Suppose $\\epsilon \\sim 10^{-p}$ and $n\\rightarrow \\infty$. Then $\\xi=\\lambda-10^{-p/n}\\exp{\\frac{\\pi n + 2\\pi k}{n}i} \\rightarrow \\lambda-\\exp{i\\pi}= \\lambda + 1$.\n",
    "From that fact comes, that for small perturbations Jordan block disappears and there is a diagonalizable matrix."
   ]
  },
  {
   "cell_type": "markdown",
   "metadata": {},
   "source": [
    "### 2. PageRank\n",
    "\n",
    "\n",
    "#### Damping factor importance\n",
    "\n",
    "* (5 pts) Write the function ```pagerank_matrix(G)``` that takes an adjacency matrix $G$ (in both sparse and dense formats) as an input and outputs the corresponding PageRank matrix $A$.\n",
    "\n",
    "* (3 pts) Find PageRank matrix $A$ that corresponds to the following graph: <img src=\"graph.png\" width='250'>\n",
    "What is its largest eigenvalue? What multiplicity does it have?\n",
    "\n",
    "\n",
    "* (5 pts) Implement the power method for a given matrix $A$, an initial guess $x_0$ and a number of iterations ```num_iter```. It should be organized as a function ```power_method(A, x0, num_iter)``` that outputs approximation to eigenvector $x$, eigenvalue $\\lambda$ and history of residuals $\\{\\|Ax_k - \\lambda_k x_k\\|_2\\}$. Make sure that the method conveges to the correct solution on a matrix $\\begin{bmatrix} 2 & -1 \\\\ -1 & 2 \\end{bmatrix}$ which is known to have the largest eigenvalue equal to $3$.\n",
    "\n",
    "\n",
    "* (2 pts) Run the power method for the graph presented above and plot residuals $\\|Ax_k - \\lambda_k x_k\\|_2$ as a function of $k$ for ```num_iter=100``` and random initial guess ```x0```.  Explain the absence of convergence. \n",
    "\n",
    "\n",
    "* (2 pts) Consider the same graph, but with a directed edge that goes from the node 3 to the node 4 being removed. Plot residuals as in the previous task and discuss the convergence. Now, run the power method with ```num_iter=100``` for 10 different initial guesses and print/plot the resulting approximated eigenvectors. Why do they depend on the initial guess?\n",
    "\n",
    "\n",
    "In order to avoid this problem Larry Page and Sergey Brin [proposed](http://ilpubs.stanford.edu:8090/422/1/1999-66.pdf) to use the following regularization technique:\n",
    "\n",
    "$$\n",
    "A_d = dA + \\frac{1-d}{N} \\begin{pmatrix} 1 & \\dots & 1 \\\\ \\vdots & & \\vdots \\\\ 1 & \\dots & 1 \\end{pmatrix},\n",
    "$$\n",
    "\n",
    "where $d$ is a small parameter in $[0,1]$ (typically $d=0.85$), which is called **damping factor**, $A$ is of size $N\\times N$. Now $A_d$ is the matrix with multiplicity of the largest eigenvalue equal to 1. \n",
    "Recall that computing the eigenvector of the PageRank matrix, which corresponds to the largest eigenvalue, has the following interpretation. Consider a person who stays in a random node of a graph (i.e. opens a random web page); at each step s/he follows one of the outcoming edges uniformly at random (i.e. opens one of the links). So the person randomly walks through the graph and the eigenvector we are looking for is exactly his/her stationary distribution â€” for each node it tells you the probability of visiting this particular node. Therefore, if the person has started from a part of the graph which is not connected with the other part, he will never get there.  In the regularized model, the person at each step follows one of the outcoming links with probability $d$ OR teleports to a random node from the whole graph with probability $(1-d)$.\n",
    "\n",
    "* (2 pts) Now, run the power method with $A_d$ and plot residuals $\\|A_d x_k - \\lambda_k x_k\\|_2$ as a function of $k$ for $d=0.97$, ```num_iter=100``` and a random initial guess ```x0```.\n",
    "\n",
    "* (5 pts) Find the second largest in the absolute value eigenvalue of the obtained matrix $A_d$. How and why is it connected to the damping factor $d$? What is the convergence rate of the PageRank algorithm when using damping factor?\n",
    "\n",
    "Usually, graphs that arise in various areas are sparse (social, web, road networks, etc.) and, thus, computation of a matrix-vector product for corresponding PageRank matrix $A$ is much cheaper than $\\mathcal{O}(N^2)$. However, if $A_d$ is calculated directly, it becomes dense and, therefore, $\\mathcal{O}(N^2)$ cost grows prohibitively large for  big $N$.\n",
    "\n",
    "\n",
    "* (2 pts) Implement fast matrix-vector product for $A_d$ as a function ```pagerank_matvec(A, d, x)```, which takes a PageRank matrix $A$ (in sparse format, e.g., ```csr_matrix```), damping factor $d$ and a vector $x$ as an input and returns $A_dx$ as an output. \n",
    "\n",
    "* (1 pts) Generate a random adjacency matrix of size $10000 \\times 10000$ with only 100 non-zero elements and compare ```pagerank_matvec``` performance with direct evaluation of $A_dx$."
   ]
  },
  {
   "cell_type": "code",
   "execution_count": 35,
   "metadata": {},
   "outputs": [],
   "source": [
    "# implement the functions in the pset2.py file\n",
    "from pset2 import pagerank_matrix, power_method, pagerank_matvec\n",
    "import numpy as np\n",
    "# Your code is here"
   ]
  },
  {
   "cell_type": "code",
   "execution_count": 36,
   "metadata": {},
   "outputs": [],
   "source": [
    "G = np.array([[0,1,0,0,0], \n",
    "              [0,0,1,0,0],\n",
    "              [1,1,0,0,0],\n",
    "              [0,0,0,0,1],\n",
    "              [0,0,0,1,0]\n",
    "             ])"
   ]
  },
  {
   "cell_type": "code",
   "execution_count": 37,
   "metadata": {},
   "outputs": [],
   "source": [
    "A = pagerank_matrix(G)"
   ]
  },
  {
   "cell_type": "code",
   "execution_count": 38,
   "metadata": {},
   "outputs": [
    {
     "data": {
      "text/plain": [
       "array([[0. , 0. , 0.5, 0. , 0. ],\n",
       "       [1. , 0. , 0.5, 0. , 0. ],\n",
       "       [0. , 1. , 0. , 0. , 0. ],\n",
       "       [0. , 0. , 0. , 0. , 1. ],\n",
       "       [0. , 0. , 0. , 1. , 0. ]])"
      ]
     },
     "execution_count": 38,
     "metadata": {},
     "output_type": "execute_result"
    }
   ],
   "source": [
    "A"
   ]
  },
  {
   "cell_type": "code",
   "execution_count": 39,
   "metadata": {},
   "outputs": [
    {
     "name": "stdout",
     "output_type": "stream",
     "text": [
      "Max eigenvalue for PageRank matrix 1.0000000000000004\n"
     ]
    }
   ],
   "source": [
    "(eigen,_)=np.linalg.eig(A)\n",
    "print('Max eigenvalue for PageRank matrix', np.abs(eigen.max()))"
   ]
  },
  {
   "cell_type": "markdown",
   "metadata": {},
   "source": [
    "Note: Max eigen value 1 has multiplicity $2$"
   ]
  },
  {
   "cell_type": "code",
   "execution_count": 40,
   "metadata": {},
   "outputs": [
    {
     "name": "stdout",
     "output_type": "stream",
     "text": [
      "Largest eigenvalue for test matrix, using power method =  3.0000000000000004\n"
     ]
    }
   ],
   "source": [
    "print('Largest eigenvalue for test matrix, using power method = ', power_method(np.array([[2,-1],[-1,2]]),np.random.uniform(0,6,size=(2,)),100)[1])"
   ]
  },
  {
   "cell_type": "code",
   "execution_count": 62,
   "metadata": {},
   "outputs": [],
   "source": [
    "x,l,res = power_method(A,np.random.uniform(0,10,size=(A.shape[0],)),100)"
   ]
  },
  {
   "cell_type": "code",
   "execution_count": 63,
   "metadata": {},
   "outputs": [
    {
     "name": "stdout",
     "output_type": "stream",
     "text": [
      "Power Method maximum eigenvalue: 0.8104880162610879\n"
     ]
    },
    {
     "data": {
      "image/png": "[encoded data removed]",
      "text/plain": [
       "<Figure size 1080x360 with 1 Axes>"
      ]
     },
     "metadata": {
      "needs_background": "light"
     },
     "output_type": "display_data"
    }
   ],
   "source": [
    "import matplotlib.pyplot as plt\n",
    "\n",
    "plt.figure(figsize=(15,5))\n",
    "print(\"Power Method maximum eigenvalue:\", l)\n",
    "plt.semilogy(res, lw = 3, color = 'r')\n",
    "plt.xlabel(\"Number of iterations\")\n",
    "plt.ylabel(\"Residual\")\n",
    "plt.title(\"History of residuals\")\n",
    "plt.grid(True)\n",
    "plt.show()"
   ]
  },
  {
   "cell_type": "markdown",
   "metadata": {},
   "source": [
    "### About absence of convergence\n",
    "While testing, we can notice that there re two results of algorithm execution: the method converges to $1$, or stops far away from $1$. The convergence speed of power method depends on the ratio $\\vert \\lambda_1 \\vert /\\vert\\lambda_2 \\vert$ that equals fraction of two largest eigenvalues, which both are equal and the rate is one in our case. Concluding, we are lucky ones if we get the right answer, using this power method for this matrix."
   ]
  },
  {
   "cell_type": "code",
   "execution_count": 43,
   "metadata": {},
   "outputs": [],
   "source": [
    "G_new = np.array([[0,1,0,0,0], \n",
    "              [0,0,1,0,0],\n",
    "              [1,1,0,0,0],\n",
    "              [0,0,0,0,0],\n",
    "              [0,0,0,1,0]\n",
    "             ])\n",
    "A_new = pagerank_matrix(G_new)\n",
    "x_new,l_new,res_new = power_method(A_new,np.random.uniform(0,10,size=(A.shape[0],)),100)"
   ]
  },
  {
   "cell_type": "code",
   "execution_count": 44,
   "metadata": {},
   "outputs": [
    {
     "name": "stdout",
     "output_type": "stream",
     "text": [
      "Power Method maximum eigenvalue: 1.0\n"
     ]
    },
    {
     "data": {
      "image/png": "[encoded data removed]",
      "text/plain": [
       "<Figure size 1080x360 with 1 Axes>"
      ]
     },
     "metadata": {
      "needs_background": "light"
     },
     "output_type": "display_data"
    }
   ],
   "source": [
    "plt.figure(figsize=(15,5))\n",
    "print(\"Power Method maximum eigenvalue:\", l_new)\n",
    "plt.semilogy(res_new, lw = 3, color= 'r')\n",
    "plt.xlabel(\"Number of iterations\")\n",
    "plt.ylabel(\"Residual\")\n",
    "plt.title(\"History of residuals\")\n",
    "plt.grid(True)\n",
    "plt.show()"
   ]
  },
  {
   "cell_type": "code",
   "execution_count": 45,
   "metadata": {},
   "outputs": [
    {
     "name": "stdout",
     "output_type": "stream",
     "text": [
      "Power Method run 1 maximum eigenvalue: 1.0000000000000002\n",
      "[0.33333333 0.66666667 0.66666667 0.         0.        ]\n",
      "\n",
      "Power Method run 2 maximum eigenvalue: 1.0000000000000002\n",
      "[0.33333333 0.66666667 0.66666667 0.         0.        ]\n",
      "\n",
      "Power Method run 3 maximum eigenvalue: 1.0000000000000004\n",
      "[0.33333333 0.66666667 0.66666667 0.         0.        ]\n",
      "\n",
      "Power Method run 4 maximum eigenvalue: 0.9999999999999999\n",
      "[0.33333333 0.66666667 0.66666667 0.         0.        ]\n",
      "\n",
      "Power Method run 5 maximum eigenvalue: 0.9999999999999998\n",
      "[0.33333333 0.66666667 0.66666667 0.         0.        ]\n",
      "\n",
      "Power Method run 6 maximum eigenvalue: 1.0000000000000004\n",
      "[0.33333333 0.66666667 0.66666667 0.         0.        ]\n",
      "\n",
      "Power Method run 7 maximum eigenvalue: 1.0\n",
      "[0.33333333 0.66666667 0.66666667 0.         0.        ]\n",
      "\n",
      "Power Method run 8 maximum eigenvalue: 1.0000000000000002\n",
      "[0.33333333 0.66666667 0.66666667 0.         0.        ]\n",
      "\n",
      "Power Method run 9 maximum eigenvalue: 0.9999999999999996\n",
      "[0.33333333 0.66666667 0.66666667 0.         0.        ]\n",
      "\n",
      "Power Method run 10 maximum eigenvalue: 1.0000000000000004\n",
      "[0.33333333 0.66666667 0.66666667 0.         0.        ]\n",
      "\n"
     ]
    }
   ],
   "source": [
    "for i in range(10):\n",
    "    x_new,l_new,res_new = power_method(A_new,np.random.uniform(0,10,size=(A_new.shape[0],)),100)\n",
    "    print(\"Power Method run\", i+1, \"maximum eigenvalue:\", l_new)\n",
    "    print(x_new)\n",
    "    print('')\n"
   ]
  },
  {
   "cell_type": "markdown",
   "metadata": {},
   "source": [
    "### About convergence and initial guess dependency\n",
    "From the graph and initial run for 10 times, we conclude, that now our method converges. Seems like the eigenvectors for new PageRank matrix are the same for all runs, so talking about initial guess dependency, to show that fact we supposed not to use random vector, but a special one, because if we make initial guess, that will be eigenvector for another eigenvalue, the algorithm will converge to another eigenvalue, which not always the biggest one. "
   ]
  },
  {
   "cell_type": "code",
   "execution_count": 46,
   "metadata": {},
   "outputs": [],
   "source": [
    "d = 0.97\n",
    "A_damp=pagerank_matrix(G_new)\n",
    "A_damp=d*A_damp+(1-d)/A_damp.shape[0]*np.ones(A_damp.shape)\n",
    "x_damp,l_damp,res_damp = power_method(A_damp,np.random.uniform(0,10,size=(A_damp.shape[0],)),100)"
   ]
  },
  {
   "cell_type": "code",
   "execution_count": 47,
   "metadata": {},
   "outputs": [
    {
     "name": "stdout",
     "output_type": "stream",
     "text": [
      "Power Method maximum eigenvalue: 0.9883318038879209\n"
     ]
    },
    {
     "data": {
      "image/png": "[encoded data removed]",
      "text/plain": [
       "<Figure size 1080x360 with 1 Axes>"
      ]
     },
     "metadata": {
      "needs_background": "light"
     },
     "output_type": "display_data"
    }
   ],
   "source": [
    "plt.figure(figsize=(15,5))\n",
    "print(\"Power Method maximum eigenvalue:\", l_damp)\n",
    "plt.semilogy(res_damp, lw = 3, color= 'r')\n",
    "plt.xlabel(\"Number of iterations\")\n",
    "plt.ylabel(\"Residual\")\n",
    "plt.title(\"History of residuals with damping\")\n",
    "plt.grid(True)\n",
    "plt.show()"
   ]
  },
  {
   "cell_type": "code",
   "execution_count": 48,
   "metadata": {},
   "outputs": [
    {
     "name": "stdout",
     "output_type": "stream",
     "text": [
      "[ 0.9883318 +0.j    -0.485     +0.485j -0.485     -0.485j\n",
      "  0.08163704+0.j    -0.06996884+0.j   ]\n"
     ]
    }
   ],
   "source": [
    "eig_damp,_ = np.linalg.eig(A_damp)\n",
    "print(eig_damp)"
   ]
  },
  {
   "cell_type": "markdown",
   "metadata": {},
   "source": [
    "From my observation, second biggest eigenvalue is multiplied by $0.5 d$. Thus, the rate of convergence is increased by $\\frac{1}{0.5d}$ multiplier, so damping algorithm decrease residual faster, than previous one."
   ]
  },
  {
   "cell_type": "markdown",
   "metadata": {},
   "source": [
    "# Find second value for damping"
   ]
  },
  {
   "cell_type": "markdown",
   "metadata": {},
   "source": [
    "### Time comparison of pagerank_matvec with direct evaluation."
   ]
  },
  {
   "cell_type": "code",
   "execution_count": 49,
   "metadata": {},
   "outputs": [],
   "source": [
    "import scipy.sparse as sp"
   ]
  },
  {
   "cell_type": "code",
   "execution_count": 50,
   "metadata": {},
   "outputs": [],
   "source": [
    "indexes = np.random.randint(0,9999, size= (100,2))\n",
    "A_sparse = sp.csr_matrix((np.ones(100),(indexes[:,0],indexes[:,1])),shape=(10000,10000),dtype=\"float64\")\n",
    "x = np.random.uniform(0,99, size=(10000,1))"
   ]
  },
  {
   "cell_type": "code",
   "execution_count": 51,
   "metadata": {},
   "outputs": [
    {
     "data": {
      "text/plain": [
       "<10000x10000 sparse matrix of type '<class 'numpy.float64'>'\n",
       "\twith 100 stored elements in Compressed Sparse Row format>"
      ]
     },
     "execution_count": 51,
     "metadata": {},
     "output_type": "execute_result"
    }
   ],
   "source": [
    "A_sparse"
   ]
  },
  {
   "cell_type": "code",
   "execution_count": 52,
   "metadata": {},
   "outputs": [],
   "source": [
    "d = 0.97\n",
    "A_sparse1 = np.zeros((10000,10000))\n",
    "A_sparse1[indexes[:,0],indexes[:,1]] = 1"
   ]
  },
  {
   "cell_type": "code",
   "execution_count": 53,
   "metadata": {},
   "outputs": [
    {
     "name": "stdout",
     "output_type": "stream",
     "text": [
      "1.52 s ± 215 ms per loop (mean ± std. dev. of 7 runs, 1 loop each)\n"
     ]
    }
   ],
   "source": [
    "%timeit pagerank_matvec(A_sparse,d,x)"
   ]
  },
  {
   "cell_type": "code",
   "execution_count": 54,
   "metadata": {},
   "outputs": [
    {
     "name": "stdout",
     "output_type": "stream",
     "text": [
      "3.41 s ± 1.06 s per loop (mean ± std. dev. of 7 runs, 1 loop each)\n"
     ]
    }
   ],
   "source": [
    "%timeit (d*A_sparse1+(1-d)/A_sparse1.shape[0]*np.ones(A_sparse1.shape)).dot(x)"
   ]
  },
  {
   "cell_type": "markdown",
   "metadata": {},
   "source": [
    "pagerank_matvec $\\approx$2 time faster then the direct one."
   ]
  },
  {
   "cell_type": "markdown",
   "metadata": {},
   "source": [
    "#### DBLP: computer science bibliography\n",
    "\n",
    "Download the dataset from [here](https://goo.gl/oZVxEa), unzip it and put `dblp_authors.npz`  and `dblp_graph.npz` in the same folder with this notebook. Each value (author name) from `dblp_authors.npz` corresponds to the row/column of the matrix from `dblp_graph.npz`. Value at row `i` and column `j` of the matrix from `dblp_graph.npz` corresponds to the number of times author `i` cited papers of the author `j`. Let us now find the most significant scientists according to PageRank model over DBLP data.\n",
    "\n",
    "* (4 pts) Load the weighted adjacency matrix and the authors list into Python using ```load_dblp(...)``` function. Print its density (fraction of nonzero elements). Find top-10 most cited authors from the weighted adjacency matrix. Now, make all the weights of the adjacency matrix equal to 1 for simplicity (consider only existence of connection between authors, not its weight). Obtain the PageRank matrix $A$ from the adjacency matrix and verify that it is stochastic.\n",
    " \n",
    " \n",
    "* (1 pts) In order to provide ```pagerank_matvec``` to your ```power_method``` (without rewriting it) for fast calculation of $A_dx$, you can create a ```LinearOperator```: \n",
    "```python\n",
    "L = scipy.sparse.linalg.LinearOperator(A.shape, matvec=lambda x, A=A, d=d: pagerank_matvec(A, d, x))\n",
    "```\n",
    "Calling ```L@x``` or ```L.dot(x)``` will result in calculation of ```pagerank_matvec(A, d, x)``` and, thus, you can plug $L$ instead of the matrix $A$ in the ```power_method``` directly. **Note:** though in the previous subtask graph was very small (so you could disparage fast matvec implementation), here it is very large (but sparse), so that direct evaluation of $A_dx$ will require $\\sim 10^{12}$ matrix elements to store - good luck with that (^_<).\n",
    "\n",
    "\n",
    "* (2 pts) Run the power method starting from the vector of all ones and plot residuals $\\|A_dx_k - \\lambda_k x_k\\|_2$  as a function of $k$ for $d=0.85$.\n",
    "\n",
    "\n",
    "* (1 pts) Print names of the top-10 authors according to PageRank over DBLP when $d=0.85$. Comment on your findings."
   ]
  },
  {
   "cell_type": "code",
   "execution_count": 55,
   "metadata": {},
   "outputs": [],
   "source": [
    "from scipy.sparse import load_npz\n",
    "import numpy as np\n",
    "def load_dblp(path_auth, path_graph):\n",
    "    G = load_npz(path_graph).astype(float)\n",
    "    with np.load(path_auth) as data: authors = data['authors']\n",
    "    return G, authors\n",
    "G, authors = load_dblp('dblp_authors.npz', 'dblp_graph.npz')"
   ]
  },
  {
   "cell_type": "code",
   "execution_count": 56,
   "metadata": {},
   "outputs": [
    {
     "name": "stdout",
     "output_type": "stream",
     "text": [
      "Density =  4.4986518152305776e-05\n"
     ]
    }
   ],
   "source": [
    "# Your code is here\n",
    "print(\"Density = \",G.getnnz()/(G.shape[0]*G.shape[1]))"
   ]
  },
  {
   "cell_type": "code",
   "execution_count": 57,
   "metadata": {},
   "outputs": [
    {
     "name": "stdout",
     "output_type": "stream",
     "text": [
      "TOP-10 cited authors\n",
      "[['Scott Shenker' '119853.0']\n",
      " ['Andrew Zisserman' '118558.0']\n",
      " ['Hari Balakrishnan' '117253.0']\n",
      " ['Jiawei Han' '116708.0']\n",
      " ['Anil K. Jain' '113874.0']\n",
      " ['Cordelia Schmid' '102996.0']\n",
      " ['Jitendra Malik' '101657.0']\n",
      " ['Ion Stoica' '98017.0']\n",
      " ['David E. Culler' '95762.0']\n",
      " ['David G. Lowe' '93678.0']]\n"
     ]
    }
   ],
   "source": [
    "summ =G.sum(axis=0)\n",
    "author = np.argsort(summ[0,:])[0,-10:][0,np.arange(9,-1,-1)]\n",
    "print(\"TOP-10 cited authors\")\n",
    "print(np.block([authors[author].reshape(10,1),summ[0,author].reshape(10,1)]))"
   ]
  }
 ],
 "metadata": {
  "kernelspec": {
   "display_name": "Python 3",
   "language": "python",
   "name": "python3"
  },
  "language_info": {
   "codemirror_mode": {
    "name": "ipython",
    "version": 3
   },
   "file_extension": ".py",
   "mimetype": "text/x-python",
   "name": "python",
   "nbconvert_exporter": "python",
   "pygments_lexer": "ipython3",
   "version": "3.6.5"
  }
 },
 "nbformat": 4,
 "nbformat_minor": 2
}
