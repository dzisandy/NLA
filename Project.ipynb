{
 "cells": [
  {
   "cell_type": "code",
   "execution_count": 1,
   "metadata": {},
   "outputs": [],
   "source": [
    "import numpy as np\n",
    "import cvxpy as cp"
   ]
  },
  {
   "cell_type": "code",
   "execution_count": 30,
   "metadata": {},
   "outputs": [],
   "source": [
    "# A - matrix NxM, shift - array len = M\n",
    "def shift_operator(shift,A):\n",
    "    N = A.shape[1]\n",
    "    A_t = A.T\n",
    "    for i in range(N):\n",
    "        A_t[i] = np.roll(A_t[i], shift[i])\n",
    "    return A_t.T"
   ]
  },
  {
   "cell_type": "code",
   "execution_count": 31,
   "metadata": {},
   "outputs": [],
   "source": [
    "#used for algo2 to shift columns\n",
    "def shift_operator_c(k,s,A):\n",
    "    A_t = A.T\n",
    "    A_t[k] = np.roll(A_t[k], -s)\n",
    "    return A_t.T"
   ]
  },
  {
   "cell_type": "code",
   "execution_count": 32,
   "metadata": {},
   "outputs": [],
   "source": [
    "# return indices of max value, algo 2 B matrix \n",
    "#maybe extend in case of max is not single\n"
   ]
  },
  {
   "cell_type": "code",
   "execution_count": 261,
   "metadata": {},
   "outputs": [],
   "source": [
    "A = np.array([[2,2,2],[0,0,4],[3,3,3]])\n",
    "shift = [1,1,2,2]"
   ]
  },
  {
   "cell_type": "code",
   "execution_count": 262,
   "metadata": {},
   "outputs": [],
   "source": [
    "def find_max_index(A):\n",
    "    return np.unravel_index(np.argmax(A),A.shape)"
   ]
  },
  {
   "cell_type": "code",
   "execution_count": 263,
   "metadata": {},
   "outputs": [
    {
     "name": "stdout",
     "output_type": "stream",
     "text": [
      "[[2 2 2]\n",
      " [0 0 4]\n",
      " [3 3 3]]\n"
     ]
    }
   ],
   "source": [
    "print(A)"
   ]
  },
  {
   "cell_type": "code",
   "execution_count": 264,
   "metadata": {},
   "outputs": [
    {
     "data": {
      "text/plain": [
       "(1, 2)"
      ]
     },
     "execution_count": 264,
     "metadata": {},
     "output_type": "execute_result"
    }
   ],
   "source": [
    "find_max_index(A)"
   ]
  },
  {
   "cell_type": "code",
   "execution_count": 275,
   "metadata": {},
   "outputs": [],
   "source": [
    "def algo_2(A):\n",
    "    s = 1\n",
    "    lmbd = np.zeros(A.shape[1])\n",
    "    while s != 0:\n",
    "        A_hat = np.fft.fft2(A)\n",
    "        U, S, V = np.linalg.svd(A_hat)\n",
    "        u_hat = U[:,0]\n",
    "        u_hat = np.conjugate(u_hat)\n",
    "        B = np.abs(np.fft.ifft2(u_hat* A_hat))**2\n",
    "        k,s = find_max_index(B)\n",
    "        print(k,s)\n",
    "        shift_operator_c(k,s,A)\n",
    "        lmbd[k] += s\n",
    "    return lmbd"
   ]
  },
  {
   "cell_type": "code",
   "execution_count": 276,
   "metadata": {},
   "outputs": [
    {
     "name": "stdout",
     "output_type": "stream",
     "text": [
      "2 0\n"
     ]
    },
    {
     "data": {
      "text/plain": [
       "array([0., 0., 0.])"
      ]
     },
     "execution_count": 276,
     "metadata": {},
     "output_type": "execute_result"
    }
   ],
   "source": [
    "algo_2(A)"
   ]
  },
  {
   "cell_type": "code",
   "execution_count": 268,
   "metadata": {},
   "outputs": [
    {
     "name": "stdout",
     "output_type": "stream",
     "text": [
      "6.778338051889763\n",
      "6.877074382461075\n"
     ]
    }
   ],
   "source": [
    "A = np.array([[2,2,2],[0,0,4],[3,3,3]])\n",
    "shift = [4,0,2]\n",
    "print(np.linalg.norm(A,ord =2))\n",
    "print(np.linalg.norm(shift_operator(shift,A), ord =2 ))"
   ]
  },
  {
   "cell_type": "code",
   "execution_count": 189,
   "metadata": {},
   "outputs": [],
   "source": [
    "#trash_2\n",
    "A_hat = np.fft.fft2(A)\n",
    "U, S, V = np.linalg.svd(A_hat)\n",
    "U_t = U.T\n",
    "u_hat = U_t[0].T\n",
    "u_hat = np.conjugate(u_hat)\n",
    "B = np.abs(np.fft.ifft2(u_hat * A_hat))**2\n"
   ]
  },
  {
   "cell_type": "code",
   "execution_count": 190,
   "metadata": {},
   "outputs": [],
   "source": [
    "def algo_3(A):\n",
    "    A_hat = np.fft.fft2(A)\n",
    "    A_hat_abs = np.abs(A_hat)\n",
    "    B = np.abs(np.fft.ifft2(A_hat_abs * A_hat))**2\n",
    "    #to be continued\n",
    "    #3: Set λ to the indices of the maximum values of B in each column and update A ← S−λ A\n",
    "    # 4: Update λ and A using Algorithm 2 with (12)        \n",
    "    #(12): uˆ ← |uˆopt| ⊙ phase(uˆ).\n",
    "    # 5: Update λ and A using Algorithm 2\n",
    "    # 6: return λ\n",
    "\n"
   ]
  },
  {
   "cell_type": "code",
   "execution_count": null,
   "metadata": {},
   "outputs": [],
   "source": []
  }
 ],
 "metadata": {
  "kernelspec": {
   "display_name": "Python 3",
   "language": "python",
   "name": "python3"
  },
  "language_info": {
   "codemirror_mode": {
    "name": "ipython",
    "version": 3
   },
   "file_extension": ".py",
   "mimetype": "text/x-python",
   "name": "python",
   "nbconvert_exporter": "python",
   "pygments_lexer": "ipython3",
   "version": "3.6.5"
  }
 },
 "nbformat": 4,
 "nbformat_minor": 2
}
