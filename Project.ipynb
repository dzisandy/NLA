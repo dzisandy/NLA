{
 "cells": [
  {
   "cell_type": "code",
   "execution_count": 88,
   "metadata": {},
   "outputs": [],
   "source": [
    "import numpy as np\n",
    "import cvxpy as cp"
   ]
  },
  {
   "cell_type": "code",
   "execution_count": 156,
   "metadata": {},
   "outputs": [],
   "source": [
    "# A - matrix NxM, shift - array len = M\n",
    "def shift_operator(shift,A):\n",
    "    N = A.shape[1]\n",
    "    A_t = A.T\n",
    "    for i in range(N):\n",
    "        A_t[i] = np.roll(A_t[i], shift[i])\n",
    "    return A_t.T"
   ]
  },
  {
   "cell_type": "code",
   "execution_count": 166,
   "metadata": {},
   "outputs": [],
   "source": [
    "#usage example from the paper\n",
    "A = np.array([[1,1,1],[2,2,2],[3,3,3]])\n",
    "shift = [-1,1,-2]"
   ]
  },
  {
   "cell_type": "code",
   "execution_count": 167,
   "metadata": {},
   "outputs": [
    {
     "data": {
      "text/plain": [
       "array([[2, 3, 3],\n",
       "       [3, 1, 1],\n",
       "       [1, 2, 2]])"
      ]
     },
     "execution_count": 167,
     "metadata": {},
     "output_type": "execute_result"
    }
   ],
   "source": [
    "shift_operator(shift,A)"
   ]
  },
  {
   "cell_type": "code",
   "execution_count": 175,
   "metadata": {},
   "outputs": [
    {
     "data": {
      "text/plain": [
       "(2, 0)"
      ]
     },
     "execution_count": 175,
     "metadata": {},
     "output_type": "execute_result"
    }
   ],
   "source": [
    "find_max_index(shift_operator(shift,A))"
   ]
  },
  {
   "cell_type": "code",
   "execution_count": 168,
   "metadata": {},
   "outputs": [],
   "source": [
    "#used for algo2 to shift columns\n",
    "def shift_operator_c(k,s,A):\n",
    "    A_t = A.T\n",
    "    A_t[k] = np.roll(A_t[k], -s)\n",
    "    return A_t.T"
   ]
  },
  {
   "cell_type": "code",
   "execution_count": 177,
   "metadata": {},
   "outputs": [],
   "source": [
    "# return indices of max value, algo 2 B matrix \n",
    "#maybe extend in case of max is not single\n",
    "def find_max_index(A):\n",
    "    a = np.max(A)\n",
    "    for counter, value in enumerate(A): #can be replaced with simple for cycle\n",
    "        for counter1, value1 in enumerate(A[counter]):\n",
    "            if a == A[counter,counter1]:\n",
    "                return counter, counter1"
   ]
  },
  {
   "cell_type": "code",
   "execution_count": 178,
   "metadata": {},
   "outputs": [],
   "source": [
    "def algo_2(A):\n",
    "    s = 1\n",
    "    while s != 0:\n",
    "        A_hat = np.fft.fft2(A)\n",
    "        U, S, V = np.linalg.svd(A_hat)\n",
    "        U_t = U.T\n",
    "        u_hat = U_t[0].T\n",
    "        u_hat = np.conjugate(u_hat)\n",
    "        if B.shape[0] != u_hat.shape[0]:\n",
    "            raise Exception\n",
    "        else:\n",
    "            B = np.abs(np.fft.ifft2(u_hat * A_hat))**2\n",
    "            k,s = find_max_index(B)\n",
    "            shift_operator_c(k,s,A)\n",
    "            #to be continued\n",
    "        # Update λk ← λk + s"
   ]
  },
  {
   "cell_type": "code",
   "execution_count": 179,
   "metadata": {},
   "outputs": [],
   "source": [
    "#trash\n",
    "a = np.abs(np.array([[np.conjugate(1 + -1j*1),np.conjugate(1 + -1j*1)], [np.conjugate(1 + -1j*1),np.conjugate(1 + -1j*1)]]))"
   ]
  },
  {
   "cell_type": "code",
   "execution_count": 171,
   "metadata": {},
   "outputs": [],
   "source": [
    "#trash_2\n",
    "A_hat = np.fft.fft2(A)\n",
    "U, S, V = np.linalg.svd(A_hat)\n",
    "U_t = U.T\n",
    "u_hat = U_t[0].T\n",
    "u_hat = np.conjugate(u_hat)\n",
    "B = np.abs(np.fft.ifft2(u_hat * A_hat))**2\n"
   ]
  },
  {
   "cell_type": "code",
   "execution_count": 169,
   "metadata": {},
   "outputs": [],
   "source": [
    "def algo_3(A):\n",
    "    A_hat = np.fft.fft2(A)\n",
    "    A_hat_abs = np.abs(A_hat)\n",
    "    B = np.abs(np.fft.ifft2(A_hat_abs * A_hat))**2\n",
    "    #to be continued\n",
    "    #3: Set λ to the indices of the maximum values of B in each column and update A ← S−λ A\n",
    "    # 4: Update λ and A using Algorithm 2 with (12)        \n",
    "    #(12): uˆ ← |uˆopt| ⊙ phase(uˆ).\n",
    "    # 5: Update λ and A using Algorithm 2\n",
    "    # 6: return λ\n",
    "\n"
   ]
  },
  {
   "cell_type": "code",
   "execution_count": null,
   "metadata": {},
   "outputs": [],
   "source": []
  }
 ],
 "metadata": {
  "kernelspec": {
   "display_name": "Python 3",
   "language": "python",
   "name": "python3"
  },
  "language_info": {
   "codemirror_mode": {
    "name": "ipython",
    "version": 3
   },
   "file_extension": ".py",
   "mimetype": "text/x-python",
   "name": "python",
   "nbconvert_exporter": "python",
   "pygments_lexer": "ipython3",
   "version": "3.6.5"
  }
 },
 "nbformat": 4,
 "nbformat_minor": 2
}
